{
 "cells": [
  {
   "cell_type": "code",
   "execution_count": null,
   "id": "c327d401-5f17-44b8-a7cf-45fa1604abd1",
   "metadata": {},
   "outputs": [],
   "source": [
    "# First login whatsapp web in new window\n",
    "# For every new message it will open whatsapp web in new window\n",
    "# for 21:07 PM please write 21, 7 i.e. don't write leading zero in hh:mm:ss\n",
    "# Always mention sending time 1 or 2 minutes after from current minute\n",
    "# You have to send message manually because it is designed to avoid violating WhatsApp's terms of service"
   ]
  },
  {
   "cell_type": "code",
   "execution_count": 4,
   "id": "6136e1f7-2338-40cf-9f63-a133053ebc84",
   "metadata": {},
   "outputs": [],
   "source": [
    "import pywhatkit"
   ]
  },
  {
   "cell_type": "code",
   "execution_count": 5,
   "id": "72c0e367-e17b-4c72-9330-12e01ee4bce7",
   "metadata": {},
   "outputs": [
    {
     "name": "stdout",
     "output_type": "stream",
     "text": [
      "In 16 Seconds WhatsApp will open and after 15 Seconds Message will be Delivered!\n"
     ]
    }
   ],
   "source": [
    "pywhatkit.sendwhatmsg(\"+918045986232\", \"Hi Rajeev How are you\", 21, 32)"
   ]
  }
 ],
 "metadata": {
  "kernelspec": {
   "display_name": "tensorflowkernel",
   "language": "python",
   "name": "tensorflowkernel"
  },
  "language_info": {
   "codemirror_mode": {
    "name": "ipython",
    "version": 3
   },
   "file_extension": ".py",
   "mimetype": "text/x-python",
   "name": "python",
   "nbconvert_exporter": "python",
   "pygments_lexer": "ipython3",
   "version": "3.12.4"
  }
 },
 "nbformat": 4,
 "nbformat_minor": 5
}
